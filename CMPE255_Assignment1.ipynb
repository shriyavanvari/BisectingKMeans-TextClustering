{
 "cells": [
  {
   "cell_type": "code",
   "execution_count": 2,
   "metadata": {},
   "outputs": [
    {
     "name": "stderr",
     "output_type": "stream",
     "text": [
      "IOPub data rate exceeded.\n",
      "The notebook server will temporarily stop sending output\n",
      "to the client in order to avoid crashing it.\n",
      "To change this limit, set the config variable\n",
      "`--NotebookApp.iopub_data_rate_limit`.\n",
      "\n",
      "Current values:\n",
      "NotebookApp.iopub_data_rate_limit=1000000.0 (bytes/sec)\n",
      "NotebookApp.rate_limit_window=3.0 (secs)\n",
      "\n"
     ]
    },
    {
     "data": {
      "text/plain": [
       "(8580, 126356)"
      ]
     },
     "execution_count": 2,
     "metadata": {},
     "output_type": "execute_result"
    }
   ],
   "source": [
    "import numpy as np\n",
    "from scipy.sparse import csr_matrix\n",
    "from sklearn import metrics\n",
    "\n",
    "# dealing with data in sparse format\n",
    "data = list()\n",
    "ilist = list()\n",
    "jlist = list()\n",
    "with open('train.dat', 'r') as fr:\n",
    "    for lineno, line in enumerate(fr):\n",
    "        line = line.strip()\n",
    "        parts = line.split()\n",
    "        for i in range(int(len(parts)/2)):\n",
    "            # 1237 1 1390 1 1391 5 ...\n",
    "            jlist.append(int(parts[i*2]))\n",
    "            data.append(int(parts[i*2+1]))\n",
    "            ilist.append(lineno)\n",
    "print(ilist)\n",
    "print(jlist)\n",
    "print(data)\n",
    "cm = csr_matrix((data, (ilist, jlist)), dtype = np.float)\n",
    "cm.toarray().shape\n",
    "\n",
    "X_initial = np.array(cm)\n",
    "X_initial\n",
    "\n",
    "# tf-idf scaling with normalization\n",
    "from sklearn.feature_extraction.text import TfidfTransformer\n",
    "transformer = TfidfTransformer(norm='l2', use_idf=True, smooth_idf=False)\n",
    "#transformer = TfidfTransformer(use_idf=True, smooth_idf=False)\n",
    "tfidf = transformer.fit_transform(cm)\n",
    "\n",
    "tfidf.shape"
   ]
  },
  {
   "cell_type": "code",
   "execution_count": null,
   "metadata": {},
   "outputs": [],
   "source": []
  }
 ],
 "metadata": {
  "kernelspec": {
   "display_name": "Python 3",
   "language": "python",
   "name": "python3"
  },
  "language_info": {
   "codemirror_mode": {
    "name": "ipython",
    "version": 3
   },
   "file_extension": ".py",
   "mimetype": "text/x-python",
   "name": "python",
   "nbconvert_exporter": "python",
   "pygments_lexer": "ipython3",
   "version": "3.7.3"
  }
 },
 "nbformat": 4,
 "nbformat_minor": 2
}
